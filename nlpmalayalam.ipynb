{
  "nbformat": 4,
  "nbformat_minor": 0,
  "metadata": {
    "colab": {
      "name": "nlpmalayalam.ipynb",
      "provenance": [],
      "collapsed_sections": [],
      "include_colab_link": true
    },
    "kernelspec": {
      "name": "python3",
      "display_name": "Python 3"
    },
    "language_info": {
      "name": "python"
    }
  },
  "cells": [
    {
      "cell_type": "markdown",
      "metadata": {
        "id": "view-in-github",
        "colab_type": "text"
      },
      "source": [
        "<a href=\"https://colab.research.google.com/github/dia333/debugger/blob/master/nlpmalayalam.ipynb\" target=\"_parent\"><img src=\"https://colab.research.google.com/assets/colab-badge.svg\" alt=\"Open In Colab\"/></a>"
      ]
    },
    {
      "cell_type": "markdown",
      "metadata": {
        "id": "wmqdCRkUIpy8"
      },
      "source": [
        "# Similarity Between Two Documents(Malayalam) Using Cosine Similarity\n",
        "\n",
        "\n",
        "> Akshara Suresh\n",
        "\n",
        "\n",
        "> Ann Rose Cherian\n",
        "\n",
        "> Dhanuja Elizabeth Varkey\n",
        "\n",
        "\n",
        "> Diya Denny\n",
        "\n",
        "\n",
        "\n",
        "\n",
        "\n",
        "\n",
        "\n"
      ]
    },
    {
      "cell_type": "code",
      "metadata": {
        "id": "fd6hG1gbw4p4"
      },
      "source": [
        "stem_words={'ആശങ്ക':['ആശങ്ക','ആശങ്കപ്പെടുന്നു'],'സൃഷ്ടിച്ച്':['സൃഷ്ടിച്ച്'],'മൂന്ന്':['മൂന്ന്'],'കൂടി':['കൂടി'],'കണ്ടെത്തി':['കണ്ടെത്തി','കണ്ടെത്തിയിട്ടുണ്ട്'],'രണ്ട്':['രണ്ടെണ്ണം'],'രാജ്യം':['രാജ്യം','രാജ്യത്ത്','രാജ്യത്താകെ'],'റിപ്പോർട്ട്':['റിപ്പോർട്ട്'],'ചെയ്തു':['ചെയ്തു'],'വിമാന':['വിമാന'],'സര്വീസ്':['സര്‍വീസുകള്‍','സര്വീസുകള്','സര്വീസുകള്'],'പുനഃരാരംഭം':['പുനഃരാരംഭം','പുനഃരാരംഭിക്കുന്നതോടെ'],'ഉള്പ്പെടെ':['ഉള്പ്പെടെ','ഉള്പ്പെടെയുള്ള'],'ഇന്ത്യ':['ഇന്ത്യ','ഇന്ത്യയിലേക്ക്'],'എത്തിച്ചേരുക':['എത്തിച്ചേരുക','എത്തുമെന്നും'],'അധികൃതര് ':['അധികൃതര് '],'വൈറസ്':['വൈറസ്','വൈറസിന്റെ'],'കൊറോണ':['കൊറോണ'],'പുതിയ':['പുതിയ'], 'ലാംഡ':['ലാംഡ','ലാംബ്ഡയെ'], 'ഇന്വെസ്റ്റിഗേഷന്':['ഇന്‍വെസ്റ്റിഗേഷന്‍','ഇന്വെസ്റ്റിഗേഷന്'],'പട്ടിക':['പട്ടിക','പട്ടികയില്‍'],'ചേര്‍ത്ത്':['ചേര്‍ത്ത്','ചേര്‍ത്തതായും'],'വകഭേദം':['വകഭേദമായ','വകഭേദങ്ങളില്‍','വകഭേദമായ','വകഭേദങ്ങളില്','വകഭേദങ്ങള്'],'പിഎച്ച്ഇ':['പിഎച്ച്ഇ'],'അറിയിപ്പ്':['അറിയിപ്പ്','അറിയിച്ചു'],'ഫെബ്രുവരി':['ഫെബ്രുവരി'],'മുതല്‍':['മുതല്‍'],'ജൂണ്‍':['ജൂണ്‍'],'വരെ':['വരെ'],'ആറു': ['ആറു'],'കേസ്':['കേസ്','കേസുകള്‍']}"
      ],
      "execution_count": null,
      "outputs": []
    },
    {
      "cell_type": "code",
      "metadata": {
        "id": "nMnDUYj8IHO_"
      },
      "source": [
        "news1 = 'ആശങ്ക സൃഷ്ടിച്ച് മൂന്ന് കോവിഡ് വകഭേദങ്ങള് കൂടി കണ്ടെത്തി. പുതിയ വകഭേദങ്ങളില് രണ്ടെണ്ണം രാജ്യത്ത് റിപ്പോർട്ട് ചെയ്തു. വിമാന സര്വീസുകള് പുനഃരാരംഭിക്കുന്നതോടെ ലാംഡ ഉള്പ്പെടെയുള്ള വകഭേദങ്ങള് ഇന്ത്യയിലേക്ക് എത്തുമെന്നും അധികൃതര് ആശങ്കപ്പെടുന്നു.'\n",
        "news2 = 'കൊറോണ വൈറസിന്റെ പുതിയ വകഭേദമായ ലാംബ്ഡയെ ഇന്വെസ്റ്റിഗേഷന് പട്ടികയില് ചേര്ത്തതായും പിഎച്ച്ഇ അറിയിച്ചു. ഫെബ്രുവരി മുതല് ജൂണ് വരെ രാജ്യത്താകെ ആറു ലാംബ്ഡ കേസുകള് കണ്ടെത്തിയിട്ടുണ്ട്.'\n"
      ],
      "execution_count": null,
      "outputs": []
    },
    {
      "cell_type": "code",
      "metadata": {
        "colab": {
          "base_uri": "https://localhost:8080/"
        },
        "id": "BHQ1tAMOR1wr",
        "outputId": "31cdbe45-f4ec-4c83-f7e3-1d42f1e70117"
      },
      "source": [
        "for i in ['.',',']:\n",
        "  news1=news1.replace(i,'')\n",
        "print(news1)"
      ],
      "execution_count": null,
      "outputs": [
        {
          "output_type": "stream",
          "text": [
            "ആശങ്ക സൃഷ്ടിച്ച് മൂന്ന് കോവിഡ് വകഭേദങ്ങള് കൂടി കണ്ടെത്തി പുതിയ വകഭേദങ്ങളില് രണ്ടെണ്ണം രാജ്യത്ത് റിപ്പോർട്ട് ചെയ്തു വിമാന സര്വീസുകള് പുനഃരാരംഭിക്കുന്നതോടെ ലാംഡ ഉള്പ്പെടെയുള്ള വകഭേദങ്ങള് ഇന്ത്യയിലേക്ക് എത്തുമെന്നും അധികൃതര് ആശങ്കപ്പെടുന്നു\n"
          ],
          "name": "stdout"
        }
      ]
    },
    {
      "cell_type": "code",
      "metadata": {
        "colab": {
          "base_uri": "https://localhost:8080/"
        },
        "id": "neBPs7qKS6G2",
        "outputId": "f96b29be-96c2-4e38-f03b-594521d1725f"
      },
      "source": [
        "for i in ['.',',']:\n",
        "  news2=news2.replace(i,'')\n",
        "print(news2)"
      ],
      "execution_count": null,
      "outputs": [
        {
          "output_type": "stream",
          "text": [
            "കൊറോണ വൈറസിന്റെ പുതിയ വകഭേദമായ ലാംബ്ഡയെ ഇന്വെസ്റ്റിഗേഷന് പട്ടികയില് ചേര്ത്തതായും പിഎച്ച്ഇ അറിയിച്ചു ഫെബ്രുവരി മുതല് ജൂണ് വരെ രാജ്യത്താകെ ആറു ലാംബ്ഡ കേസുകള് കണ്ടെത്തിയിട്ടുണ്ട്\n"
          ],
          "name": "stdout"
        }
      ]
    },
    {
      "cell_type": "code",
      "metadata": {
        "colab": {
          "base_uri": "https://localhost:8080/"
        },
        "id": "pQYJNtFaMEGm",
        "outputId": "f89a7442-0090-4522-a666-5c704717fb64"
      },
      "source": [
        "tokens=news1.split()\n",
        "print(tokens)"
      ],
      "execution_count": null,
      "outputs": [
        {
          "output_type": "stream",
          "text": [
            "['ആശങ്ക', 'സൃഷ്ടിച്ച്', 'മൂന്ന്', 'കോവിഡ്', 'വകഭേദങ്ങള്', 'കൂടി', 'കണ്ടെത്തി', 'പുതിയ', 'വകഭേദങ്ങളില്', 'രണ്ടെണ്ണം', 'രാജ്യത്ത്', 'റിപ്പോർട്ട്', 'ചെയ്തു', 'വിമാന', 'സര്വീസുകള്', 'പുനഃരാരംഭിക്കുന്നതോടെ', 'ലാംഡ', 'ഉള്പ്പെടെയുള്ള', 'വകഭേദങ്ങള്', 'ഇന്ത്യയിലേക്ക്', 'എത്തുമെന്നും', 'അധികൃതര്', 'ആശങ്കപ്പെടുന്നു']\n"
          ],
          "name": "stdout"
        }
      ]
    },
    {
      "cell_type": "code",
      "metadata": {
        "colab": {
          "base_uri": "https://localhost:8080/"
        },
        "id": "RXY_AZeiNyO1",
        "outputId": "b49308fc-b5f5-4820-e3b9-b1e675b50b62"
      },
      "source": [
        "tokens2=news2.split()\n",
        "print(tokens2)"
      ],
      "execution_count": null,
      "outputs": [
        {
          "output_type": "stream",
          "text": [
            "['കൊറോണ', 'വൈറസിന്റെ', 'പുതിയ', 'വകഭേദമായ', 'ലാംബ്ഡയെ', 'ഇന്വെസ്റ്റിഗേഷന്', 'പട്ടികയില്', 'ചേര്ത്തതായും', 'പിഎച്ച്ഇ', 'അറിയിച്ചു', 'ഫെബ്രുവരി', 'മുതല്', 'ജൂണ്', 'വരെ', 'രാജ്യത്താകെ', 'ആറു', 'ലാംബ്ഡ', 'കേസുകള്', 'കണ്ടെത്തിയിട്ടുണ്ട്']\n"
          ],
          "name": "stdout"
        }
      ]
    },
    {
      "cell_type": "code",
      "metadata": {
        "colab": {
          "base_uri": "https://localhost:8080/"
        },
        "id": "7XwmgAOwTFC1",
        "outputId": "9dea16a0-0fac-41cd-cc73-47edc7670afa"
      },
      "source": [
        "for n,i in enumerate(tokens):\n",
        "  for key,value in stem_words.items():\n",
        "    if i in value:\n",
        "      tokens[n]=key\n",
        "print(tokens)\n"
      ],
      "execution_count": null,
      "outputs": [
        {
          "output_type": "stream",
          "text": [
            "['ആശങ്ക', 'സൃഷ്ടിച്ച്', 'മൂന്ന്', 'കോവിഡ്', 'വകഭേദം', 'കൂടി', 'കണ്ടെത്തി', 'പുതിയ', 'വകഭേദം', 'രണ്ട്', 'രാജ്യം', 'റിപ്പോർട്ട്', 'ചെയ്തു', 'വിമാന', 'സര്വീസ്', 'പുനഃരാരംഭം', 'ലാംഡ', 'ഉള്പ്പെടെ', 'വകഭേദം', 'ഇന്ത്യ', 'എത്തിച്ചേരുക', 'അധികൃതര്', 'ആശങ്ക']\n"
          ],
          "name": "stdout"
        }
      ]
    },
    {
      "cell_type": "code",
      "metadata": {
        "colab": {
          "base_uri": "https://localhost:8080/"
        },
        "id": "9pwDgxuSZMAi",
        "outputId": "1d51fa67-8469-4330-bd7d-7f2fbd5625bd"
      },
      "source": [
        "for n,i in enumerate(tokens2):\n",
        "  for key,value in stem_words.items():\n",
        "    if i in value:\n",
        "      tokens2[n]=key\n",
        "print(tokens2)\n"
      ],
      "execution_count": null,
      "outputs": [
        {
          "output_type": "stream",
          "text": [
            "['കൊറോണ', 'വൈറസ്', 'പുതിയ', 'വകഭേദം', 'ലാംഡ', 'ഇന്വെസ്റ്റിഗേഷന്', 'പട്ടികയില്', 'ചേര്ത്തതായും', 'പിഎച്ച്ഇ', 'അറിയിപ്പ്', 'ഫെബ്രുവരി', 'മുതല്', 'ജൂണ്', 'വരെ', 'രാജ്യം', 'ആറു', 'ലാംബ്ഡ', 'കേസുകള്', 'കണ്ടെത്തി']\n"
          ],
          "name": "stdout"
        }
      ]
    },
    {
      "cell_type": "code",
      "metadata": {
        "colab": {
          "base_uri": "https://localhost:8080/"
        },
        "id": "OvAcL19fa6RO",
        "outputId": "f1eb3a5c-875e-40e6-cbda-61b79147ac71"
      },
      "source": [
        "import nltk\n",
        "\n",
        "count1=nltk.defaultdict(int)\n",
        "for word in tokens:\n",
        "  count1[word]+=1\n",
        "print(count1)"
      ],
      "execution_count": null,
      "outputs": [
        {
          "output_type": "stream",
          "text": [
            "defaultdict(<class 'int'>, {'ആശങ്ക': 2, 'സൃഷ്ടിച്ച്': 1, 'മൂന്ന്': 1, 'കോവിഡ്': 1, 'വകഭേദം': 3, 'കൂടി': 1, 'കണ്ടെത്തി': 1, 'പുതിയ': 1, 'രണ്ട്': 1, 'രാജ്യം': 1, 'റിപ്പോർട്ട്': 1, 'ചെയ്തു': 1, 'വിമാന': 1, 'സര്വീസ്': 1, 'പുനഃരാരംഭം': 1, 'ലാംഡ': 1, 'ഉള്പ്പെടെ': 1, 'ഇന്ത്യ': 1, 'എത്തിച്ചേരുക': 1, 'അധികൃതര്': 1})\n"
          ],
          "name": "stdout"
        }
      ]
    },
    {
      "cell_type": "code",
      "metadata": {
        "colab": {
          "base_uri": "https://localhost:8080/"
        },
        "id": "_qFNZYXsevRi",
        "outputId": "85df7b6d-3dee-4737-ae24-cfca0a31edf9"
      },
      "source": [
        "count2=nltk.defaultdict(int)\n",
        "for word in tokens2:\n",
        "  count2[word]+=1\n",
        "print(count2)"
      ],
      "execution_count": null,
      "outputs": [
        {
          "output_type": "stream",
          "text": [
            "defaultdict(<class 'int'>, {'കൊറോണ': 1, 'വൈറസ്': 1, 'പുതിയ': 1, 'വകഭേദം': 1, 'ലാംഡ': 1, 'ഇന്വെസ്റ്റിഗേഷന്': 1, 'പട്ടികയില്': 1, 'ചേര്ത്തതായും': 1, 'പിഎച്ച്ഇ': 1, 'അറിയിപ്പ്': 1, 'ഫെബ്രുവരി': 1, 'മുതല്': 1, 'ജൂണ്': 1, 'വരെ': 1, 'രാജ്യം': 1, 'ആറു': 1, 'ലാംബ്ഡ': 1, 'കേസുകള്': 1, 'കണ്ടെത്തി': 1})\n"
          ],
          "name": "stdout"
        }
      ]
    },
    {
      "cell_type": "code",
      "metadata": {
        "id": "KQxboYYme-xS"
      },
      "source": [
        "import numpy as np"
      ],
      "execution_count": null,
      "outputs": []
    },
    {
      "cell_type": "code",
      "metadata": {
        "id": "Z1-Hmg5dgQX5"
      },
      "source": [
        "all_word_list=[]\n",
        "for key in count1:\n",
        "  all_word_list.append(key)\n",
        "for key in count2:\n",
        "  all_word_list.append(key)\n",
        "all_word_list_size = len(all_word_list)"
      ],
      "execution_count": null,
      "outputs": []
    },
    {
      "cell_type": "code",
      "metadata": {
        "id": "jr3lPVJ7hpFh",
        "colab": {
          "base_uri": "https://localhost:8080/"
        },
        "outputId": "bba59a2b-4aed-4a5a-dee2-16b527d23150"
      },
      "source": [
        "v1 = np.zeros(all_word_list_size, dtype=np.int)\n",
        "v2 = np.zeros(all_word_list_size, dtype=np.int)\n",
        "i = 0\n",
        "for (key) in all_word_list:\n",
        "  v1[i] = count1.get(key, 0)\n",
        "  v2[i] = count2.get(key, 0)\n",
        "  i = i+1\n",
        "dot_product = np.dot(v1,v2)\n",
        "norm_v1 = np.linalg.norm(v1)\n",
        "norm_v2 = np.linalg.norm(v2)\n",
        "print(dot_product / (norm_v1*norm_v2))"
      ],
      "execution_count": null,
      "outputs": [
        {
          "output_type": "stream",
          "text": [
            "0.43082021842766466\n"
          ],
          "name": "stdout"
        }
      ]
    }
  ]
}